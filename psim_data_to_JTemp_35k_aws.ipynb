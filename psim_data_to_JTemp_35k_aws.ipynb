{
 "cells": [
  {
   "cell_type": "markdown",
   "metadata": {},
   "source": [
    "**Objetivo do notebook**\n",
    "\n",
    "Coletar os dados de quatro datasets com amostragem a cada 5 segundos e convertê-los em apenas um dataset de amostragem a cada 1 hora.\n",
    "\n",
    "**Descrição dos datasets de entrada**\n",
    "\n",
    "São 4 datasets de entrada. Cada um deles é resultado de uma simulação no software PSIM, utilizando as condições climáticas da cidade de Teresina-PI (base de dados Solcast) de todos os dias do ano de 2018 para se obter a temperatura da junção nas chaves de potência de um inversor conectado a um sistema fotovoltaico.\n",
    "\n",
    "Estes datasets apresentam quatro variáveis cada:\n",
    "* Time = momento de coleta da amostra na simulação, no formato ano-mês-dia-hora-minuto-segundo;\n",
    "* Irradiance = valor de irradiância, em $kW/m^2$, na região de estudo (Teresina-PI);\n",
    "* Ta = Temperatura ambiente da região de estudo;\n",
    "* Tj = Temperatura da junção na chave (estimada pelo PSIM).\n",
    "\n",
    "A diferença entre os datasets é a configuração de dispositivo utilizado como chave e de frequência de chaveamento:\n",
    "* Dataset 0: IGBT (dispositivo) e 10kHz (frequência);\n",
    "* Dataset 1: IGBT e 15kHz;\n",
    "* Dataset 2: MOSFET e 10kHz;\n",
    "* Dataset 3: MOSFET e 15kHz.\n",
    "\n",
    "Essas informações de dispositivo e frequência também serão incluídas no dataset final como outras duas variáveis.\n",
    "\n",
    "**Descrição do dataset produzido após processamento**\n",
    "\n",
    "A variável Time (tempo) é importante para se realizar a média das variáveis de irradiância (irradiance), $T_a$ e $T_j$ em períodos de uma hora (reduzir a amostragem de 5 em 5 segundos para de hora em hora). Além disso, outra variável é computada, $\\Delta T_j$: ela indica a variação entre os valores mínimo e máximo dentro do intervalo de uma hora.\n",
    "\n",
    "Após isso, a variável de tempo é eliminada do dataframe.\n",
    "\n",
    "Ao final, o dataframe é composto por seis variáveis no total.\n",
    "\n",
    "**Destinação do dataset produzido**\n",
    "\n",
    "O dataset produzido tem destinação a ser utilizado para treinamento de modelos (a partir de aprendizagem de máquina) que prevejam a Temperatura de Junção. Desta forma, das seis variáveis, quatro são destinadas a serem entradas para o modelo e duas, saída:\n",
    "* Entrada: Irradiância, $T_a$, Frequência e Dispositivo;\n",
    "* Saída: $T_j$ e $\\Delta T_j$."
   ]
  },
  {
   "cell_type": "markdown",
   "metadata": {
    "id": "zvlkuFkTcxOU"
   },
   "source": [
    "**Libraries**"
   ]
  },
  {
   "cell_type": "code",
   "execution_count": 41,
   "metadata": {
    "id": "ko4SIVcRnXEC"
   },
   "outputs": [],
   "source": [
    "# Libraries\n",
    "import pandas as pd\n",
    "import numpy as np\n",
    "import pandas as pd\n",
    "from sagemaker import get_execution_role \n",
    "from io import StringIO\n",
    "import boto3\n",
    "import botocore \n",
    "\n",
    "import warnings\n",
    "warnings.simplefilter('ignore')"
   ]
  },
  {
   "cell_type": "markdown",
   "metadata": {
    "id": "fpD2jhXULmm2"
   },
   "source": [
    "**Names of columns (Dataframe)**\n",
    "\n",
    "Vetor de strings da head do dataframe (pandas) para renomear as variáveis do dataset para nomes mais representativos para o estudo:\n"
   ]
  },
  {
   "cell_type": "code",
   "execution_count": 5,
   "metadata": {
    "id": "tJBf0YQjyz1x"
   },
   "outputs": [],
   "source": [
    "columns = ['Time', 'Irradiance', 'Ta', 'Tj']"
   ]
  },
  {
   "cell_type": "markdown",
   "metadata": {
    "id": "wcOYE8DaLVL4"
   },
   "source": [
    "**Address, Devices and Frequency of Files**\n",
    "\n",
    "Lista de dicionários, com cada dicionário contendo as informações para cada um dos datasets de entrada que serão lidos. Isso permite que estes datasets sejam lidos em um loop.\n",
    "\n",
    "Cada dataset é resultado de uma simulação no software PSIM, utilizando as condições climáticas da cidade de Teresina-PI (base de dados Solcast) de todos os dias do ano de 2018 para se obter a temperatura da junção nas chaves de potência de um inversor conectado a um sistema fotovoltaico.\n",
    "\n",
    "As informações contidas em cada dicionário:\n",
    "* Endereço (address) do dataset a ser lido;\n",
    "* Frequência de chaveamento (frequency) correspondente ao dataset lido;\n",
    "* Dispositivo de chaveamento (device) correspondente ao dataset lido;\n",
    "* Argumentos a serem utilizados na função pandas.read_csv()."
   ]
  },
  {
   "cell_type": "code",
   "execution_count": 33,
   "metadata": {
    "id": "5FHP-YHBKpA6"
   },
   "outputs": [],
   "source": [
    "files = [\n",
    "    {\n",
    "        'device' : 'IGBT',\n",
    "        'freq'   : 10000,\n",
    "        'address': 's3://resultados-ifsp-1000/2018/teresina/IGBT-CM100TU-12H-10kHz.txt',\n",
    "        'kwargs' : {'header':None, 'sep': '  ', 'names': columns, 'chunksize': 100000}\n",
    "    },\n",
    "    {\n",
    "        'device' : 'IGBT',\n",
    "        'freq'   : 15000,\n",
    "        'address': 's3://resultados-ifsp-1000/2018/teresina/IGBT_CM100_15kHz.txt',\n",
    "        'kwargs' : {'header':None, 'sep': '  ', 'names': columns, 'chunksize': 200000}\n",
    "    },\n",
    "    {\n",
    "        'device' : 'MOSFET',\n",
    "        'freq'   : 10000,\n",
    "        'address': 's3://resultados-ifsp-1000/2018/teresina/MOSFET- C3M0015065D-10kHz-tab-separated.txt',\n",
    "        'kwargs' : {'header': 0, 'sep': '\\t', 'names': columns, 'chunksize': 100000}\n",
    "    },\n",
    "    {\n",
    "        'device' : 'MOSFET',\n",
    "        'freq'   : 15000,\n",
    "        'address': 's3://resultados-ifsp-1000/2018/teresina/MOSFET_C3M0015065D_15kHz.txt',\n",
    "        'kwargs' : {'header':None, 'sep': '  ', 'names': columns, 'chunksize': 200000}\n",
    "    }\n",
    "]"
   ]
  },
  {
   "cell_type": "markdown",
   "metadata": {
    "id": "k0SiWQJwKUN9"
   },
   "source": [
    "**Function: Converting Dataframe with 100 or 200 thousand samples by day on one sample by hour**\n",
    "\n",
    "Cada dataset possui 100 ou 200 mil amostras por dia da simulação: em torno de 4167 ou 8333 amostras por hora, respectivamente. Essa função reduz as amostras de um dia do banco de dados a 24 (uma amostra por hora):\n",
    "* Irradiance, $T_a$ e $T_j$ = média no intervalo de uma hora;\n",
    "* $\\Delta T_j$ = $Tj_{máx} - Tj_{min}$."
   ]
  },
  {
   "cell_type": "code",
   "execution_count": 34,
   "metadata": {
    "id": "Uhbag5hY09Z1"
   },
   "outputs": [],
   "source": [
    "# original to \"by hour\" function\n",
    "def by_hour_function(df, freq, device):\n",
    "\n",
    "  # converter index (0 a N_amostras) em horas (0 a 23h)\n",
    "  div = np.round(len(df) / 24)\n",
    "  np.floor(df.reset_index().index / div)\n",
    "  df['Hour'] = np.floor(df.reset_index().index / div)\n",
    "\n",
    "  by_hour_df = df.groupby('Hour').mean()[['Irradiance', 'Ta', 'Tj']].reset_index()\n",
    "  by_hour_df['delta_Tj'] = df.groupby('Hour').max()['Tj'].reset_index()['Tj'] - df.groupby('Hour').min()['Tj'].reset_index()['Tj']\n",
    "\n",
    "  by_hour_df.insert(3, 'f_sw', freq, False)\n",
    "  by_hour_df.insert(4, 'Device', device, False)\n",
    "\n",
    "  if len(by_hour_df.index) > 23:\n",
    "    by_hour_df = by_hour_df[:24]\n",
    "\n",
    "  return by_hour_df"
   ]
  },
  {
   "cell_type": "markdown",
   "metadata": {
    "id": "21bpq3CWzBG8"
   },
   "source": [
    "**Function: Concatenate the 365 days Dataframes on one Dataframe**\n",
    "\n",
    "* O carregamento de cada dataset é realizada por chunk = 100 ou 200 mil (a depender da quantidade de amostras diárias). Dessa forma, o dataset é lido dia a dia;\n",
    "* Cada dia do dataset é reduzido a 24 amostras (uma por hora) pela função ```by_hour_function()```;\n",
    "* As amostras de cada dia são novamente concatenadas em um dataset."
   ]
  },
  {
   "cell_type": "code",
   "execution_count": 35,
   "metadata": {
    "id": "NoQ3F692zAov"
   },
   "outputs": [],
   "source": [
    "def concat_365(filepath, kwargs):\n",
    "\n",
    "  # read file with chunks\n",
    "  chunks =  pd.read_csv(filepath, **kwargs, engine='python')\n",
    "\n",
    "  # declare a empty dataframe\n",
    "  df_365 = pd.DataFrame()\n",
    "\n",
    "  # for each chunk\n",
    "  for i, chunk in enumerate(chunks):\n",
    "\n",
    "    print(i, end='\\r')\n",
    "      \n",
    "    # convert 100 or 200 thousand samples on 24 (hours) and concat on one dataframe\n",
    "    df_365 = pd.concat([df_365,\n",
    "                        by_hour_function(chunk, freq=files[num_file]['freq'], device=files[num_file]['device'])]\n",
    "        )\n",
    "\n",
    "  return df_365"
   ]
  },
  {
   "cell_type": "markdown",
   "metadata": {
    "id": "I2EIGwHkOv-e"
   },
   "source": [
    "**Loading datasets using chunk (large dataset) and converting to a reduced dataset**\n",
    "\n",
    "* Cada dataset é reduzido pela função ```concat_365()```;\n",
    "* Os quatro datasets são concatenados em um dataset final."
   ]
  },
  {
   "cell_type": "code",
   "execution_count": 37,
   "metadata": {
    "colab": {
     "base_uri": "https://localhost:8080/",
     "height": 424
    },
    "id": "9IFbmRVRvOv-",
    "outputId": "91a80600-21eb-4d00-b4fe-2a47fca1f1bb"
   },
   "outputs": [
    {
     "name": "stdout",
     "output_type": "stream",
     "text": [
      "sagemaker.config INFO - Not applying SDK defaults from location: /etc/xdg/sagemaker/config.yaml\n",
      "sagemaker.config INFO - Not applying SDK defaults from location: /home/sagemaker-user/.config/sagemaker/config.yaml\n",
      "364\r"
     ]
    },
    {
     "data": {
      "text/html": [
       "<div>\n",
       "<style scoped>\n",
       "    .dataframe tbody tr th:only-of-type {\n",
       "        vertical-align: middle;\n",
       "    }\n",
       "\n",
       "    .dataframe tbody tr th {\n",
       "        vertical-align: top;\n",
       "    }\n",
       "\n",
       "    .dataframe thead th {\n",
       "        text-align: right;\n",
       "    }\n",
       "</style>\n",
       "<table border=\"1\" class=\"dataframe\">\n",
       "  <thead>\n",
       "    <tr style=\"text-align: right;\">\n",
       "      <th></th>\n",
       "      <th>Hour</th>\n",
       "      <th>Irradiance</th>\n",
       "      <th>Ta</th>\n",
       "      <th>f_sw</th>\n",
       "      <th>Device</th>\n",
       "      <th>Tj</th>\n",
       "      <th>delta_Tj</th>\n",
       "    </tr>\n",
       "  </thead>\n",
       "  <tbody>\n",
       "    <tr>\n",
       "      <th>0</th>\n",
       "      <td>0.0</td>\n",
       "      <td>0.000000e+00</td>\n",
       "      <td>27.608333</td>\n",
       "      <td>10000</td>\n",
       "      <td>IGBT</td>\n",
       "      <td>29.081295</td>\n",
       "      <td>1.561258</td>\n",
       "    </tr>\n",
       "    <tr>\n",
       "      <th>1</th>\n",
       "      <td>1.0</td>\n",
       "      <td>0.000000e+00</td>\n",
       "      <td>27.179167</td>\n",
       "      <td>10000</td>\n",
       "      <td>IGBT</td>\n",
       "      <td>28.001805</td>\n",
       "      <td>0.870981</td>\n",
       "    </tr>\n",
       "    <tr>\n",
       "      <th>2</th>\n",
       "      <td>2.0</td>\n",
       "      <td>0.000000e+00</td>\n",
       "      <td>26.479123</td>\n",
       "      <td>10000</td>\n",
       "      <td>IGBT</td>\n",
       "      <td>27.179445</td>\n",
       "      <td>0.740504</td>\n",
       "    </tr>\n",
       "    <tr>\n",
       "      <th>3</th>\n",
       "      <td>3.0</td>\n",
       "      <td>0.000000e+00</td>\n",
       "      <td>26.091629</td>\n",
       "      <td>10000</td>\n",
       "      <td>IGBT</td>\n",
       "      <td>26.556674</td>\n",
       "      <td>0.493527</td>\n",
       "    </tr>\n",
       "    <tr>\n",
       "      <th>4</th>\n",
       "      <td>4.0</td>\n",
       "      <td>0.000000e+00</td>\n",
       "      <td>25.845771</td>\n",
       "      <td>10000</td>\n",
       "      <td>IGBT</td>\n",
       "      <td>26.160277</td>\n",
       "      <td>0.331715</td>\n",
       "    </tr>\n",
       "    <tr>\n",
       "      <th>...</th>\n",
       "      <td>...</td>\n",
       "      <td>...</td>\n",
       "      <td>...</td>\n",
       "      <td>...</td>\n",
       "      <td>...</td>\n",
       "      <td>...</td>\n",
       "      <td>...</td>\n",
       "    </tr>\n",
       "    <tr>\n",
       "      <th>19</th>\n",
       "      <td>19.0</td>\n",
       "      <td>3.501382e+02</td>\n",
       "      <td>28.741923</td>\n",
       "      <td>15000</td>\n",
       "      <td>MOSFET</td>\n",
       "      <td>65.811249</td>\n",
       "      <td>34.005698</td>\n",
       "    </tr>\n",
       "    <tr>\n",
       "      <th>20</th>\n",
       "      <td>20.0</td>\n",
       "      <td>5.696270e+01</td>\n",
       "      <td>28.483462</td>\n",
       "      <td>15000</td>\n",
       "      <td>MOSFET</td>\n",
       "      <td>54.522737</td>\n",
       "      <td>27.395597</td>\n",
       "    </tr>\n",
       "    <tr>\n",
       "      <th>21</th>\n",
       "      <td>21.0</td>\n",
       "      <td>1.252388e-01</td>\n",
       "      <td>28.366721</td>\n",
       "      <td>15000</td>\n",
       "      <td>MOSFET</td>\n",
       "      <td>38.075751</td>\n",
       "      <td>17.339361</td>\n",
       "    </tr>\n",
       "    <tr>\n",
       "      <th>22</th>\n",
       "      <td>22.0</td>\n",
       "      <td>8.684164e-08</td>\n",
       "      <td>28.316695</td>\n",
       "      <td>15000</td>\n",
       "      <td>MOSFET</td>\n",
       "      <td>30.786107</td>\n",
       "      <td>3.479579</td>\n",
       "    </tr>\n",
       "    <tr>\n",
       "      <th>23</th>\n",
       "      <td>23.0</td>\n",
       "      <td>0.000000e+00</td>\n",
       "      <td>28.096198</td>\n",
       "      <td>15000</td>\n",
       "      <td>MOSFET</td>\n",
       "      <td>28.850554</td>\n",
       "      <td>1.095392</td>\n",
       "    </tr>\n",
       "  </tbody>\n",
       "</table>\n",
       "<p>35040 rows × 7 columns</p>\n",
       "</div>"
      ],
      "text/plain": [
       "    Hour    Irradiance         Ta   f_sw  Device         Tj   delta_Tj\n",
       "0    0.0  0.000000e+00  27.608333  10000    IGBT  29.081295   1.561258\n",
       "1    1.0  0.000000e+00  27.179167  10000    IGBT  28.001805   0.870981\n",
       "2    2.0  0.000000e+00  26.479123  10000    IGBT  27.179445   0.740504\n",
       "3    3.0  0.000000e+00  26.091629  10000    IGBT  26.556674   0.493527\n",
       "4    4.0  0.000000e+00  25.845771  10000    IGBT  26.160277   0.331715\n",
       "..   ...           ...        ...    ...     ...        ...        ...\n",
       "19  19.0  3.501382e+02  28.741923  15000  MOSFET  65.811249  34.005698\n",
       "20  20.0  5.696270e+01  28.483462  15000  MOSFET  54.522737  27.395597\n",
       "21  21.0  1.252388e-01  28.366721  15000  MOSFET  38.075751  17.339361\n",
       "22  22.0  8.684164e-08  28.316695  15000  MOSFET  30.786107   3.479579\n",
       "23  23.0  0.000000e+00  28.096198  15000  MOSFET  28.850554   1.095392\n",
       "\n",
       "[35040 rows x 7 columns]"
      ]
     },
     "execution_count": 37,
     "metadata": {},
     "output_type": "execute_result"
    }
   ],
   "source": [
    "# concat all converted files\n",
    "\n",
    "# get access to the execution role for the notebook instance\n",
    "role = get_execution_role()\n",
    "\n",
    "# declare a empty dataframe\n",
    "final_df = pd.DataFrame()\n",
    "\n",
    "for num_file in range(len(files)):\n",
    "  filepath = files[num_file]['address']\n",
    "  kwargs   = files[num_file]['kwargs']\n",
    "\n",
    "  # concat all converted files (df_365)\n",
    "  final_df = pd.concat([final_df,\n",
    "                        concat_365(filepath, kwargs)]\n",
    "    )\n",
    "\n",
    "final_df"
   ]
  },
  {
   "cell_type": "markdown",
   "metadata": {},
   "source": [
    "**Remoção da coluna de tempo ('Hour')**"
   ]
  },
  {
   "cell_type": "code",
   "execution_count": 39,
   "metadata": {
    "colab": {
     "base_uri": "https://localhost:8080/"
    },
    "id": "fuAh1SCXwHwS",
    "outputId": "919994fc-fe50-4adb-ff0e-d165160b9c31"
   },
   "outputs": [
    {
     "data": {
      "text/plain": [
       "0      0.0\n",
       "1      1.0\n",
       "2      2.0\n",
       "3      3.0\n",
       "4      4.0\n",
       "      ... \n",
       "19    19.0\n",
       "20    20.0\n",
       "21    21.0\n",
       "22    22.0\n",
       "23    23.0\n",
       "Name: Hour, Length: 35040, dtype: float64"
      ]
     },
     "execution_count": 39,
     "metadata": {},
     "output_type": "execute_result"
    }
   ],
   "source": [
    "# remove the 'Hour' column\n",
    "final_df.pop('Hour')"
   ]
  },
  {
   "cell_type": "markdown",
   "metadata": {},
   "source": [
    "**Datraframe final produzido**"
   ]
  },
  {
   "cell_type": "code",
   "execution_count": 40,
   "metadata": {
    "colab": {
     "base_uri": "https://localhost:8080/",
     "height": 424
    },
    "id": "-AhPM2qLUwnK",
    "outputId": "0e03c7d8-905a-491a-bb7d-15d6be5de3da"
   },
   "outputs": [
    {
     "data": {
      "text/html": [
       "<div>\n",
       "<style scoped>\n",
       "    .dataframe tbody tr th:only-of-type {\n",
       "        vertical-align: middle;\n",
       "    }\n",
       "\n",
       "    .dataframe tbody tr th {\n",
       "        vertical-align: top;\n",
       "    }\n",
       "\n",
       "    .dataframe thead th {\n",
       "        text-align: right;\n",
       "    }\n",
       "</style>\n",
       "<table border=\"1\" class=\"dataframe\">\n",
       "  <thead>\n",
       "    <tr style=\"text-align: right;\">\n",
       "      <th></th>\n",
       "      <th>Irradiance</th>\n",
       "      <th>Ta</th>\n",
       "      <th>f_sw</th>\n",
       "      <th>Device</th>\n",
       "      <th>Tj</th>\n",
       "      <th>delta_Tj</th>\n",
       "    </tr>\n",
       "  </thead>\n",
       "  <tbody>\n",
       "    <tr>\n",
       "      <th>0</th>\n",
       "      <td>0.000000e+00</td>\n",
       "      <td>27.608333</td>\n",
       "      <td>10000</td>\n",
       "      <td>IGBT</td>\n",
       "      <td>29.081295</td>\n",
       "      <td>1.561258</td>\n",
       "    </tr>\n",
       "    <tr>\n",
       "      <th>1</th>\n",
       "      <td>0.000000e+00</td>\n",
       "      <td>27.179167</td>\n",
       "      <td>10000</td>\n",
       "      <td>IGBT</td>\n",
       "      <td>28.001805</td>\n",
       "      <td>0.870981</td>\n",
       "    </tr>\n",
       "    <tr>\n",
       "      <th>2</th>\n",
       "      <td>0.000000e+00</td>\n",
       "      <td>26.479123</td>\n",
       "      <td>10000</td>\n",
       "      <td>IGBT</td>\n",
       "      <td>27.179445</td>\n",
       "      <td>0.740504</td>\n",
       "    </tr>\n",
       "    <tr>\n",
       "      <th>3</th>\n",
       "      <td>0.000000e+00</td>\n",
       "      <td>26.091629</td>\n",
       "      <td>10000</td>\n",
       "      <td>IGBT</td>\n",
       "      <td>26.556674</td>\n",
       "      <td>0.493527</td>\n",
       "    </tr>\n",
       "    <tr>\n",
       "      <th>4</th>\n",
       "      <td>0.000000e+00</td>\n",
       "      <td>25.845771</td>\n",
       "      <td>10000</td>\n",
       "      <td>IGBT</td>\n",
       "      <td>26.160277</td>\n",
       "      <td>0.331715</td>\n",
       "    </tr>\n",
       "    <tr>\n",
       "      <th>...</th>\n",
       "      <td>...</td>\n",
       "      <td>...</td>\n",
       "      <td>...</td>\n",
       "      <td>...</td>\n",
       "      <td>...</td>\n",
       "      <td>...</td>\n",
       "    </tr>\n",
       "    <tr>\n",
       "      <th>19</th>\n",
       "      <td>3.501382e+02</td>\n",
       "      <td>28.741923</td>\n",
       "      <td>15000</td>\n",
       "      <td>MOSFET</td>\n",
       "      <td>65.811249</td>\n",
       "      <td>34.005698</td>\n",
       "    </tr>\n",
       "    <tr>\n",
       "      <th>20</th>\n",
       "      <td>5.696270e+01</td>\n",
       "      <td>28.483462</td>\n",
       "      <td>15000</td>\n",
       "      <td>MOSFET</td>\n",
       "      <td>54.522737</td>\n",
       "      <td>27.395597</td>\n",
       "    </tr>\n",
       "    <tr>\n",
       "      <th>21</th>\n",
       "      <td>1.252388e-01</td>\n",
       "      <td>28.366721</td>\n",
       "      <td>15000</td>\n",
       "      <td>MOSFET</td>\n",
       "      <td>38.075751</td>\n",
       "      <td>17.339361</td>\n",
       "    </tr>\n",
       "    <tr>\n",
       "      <th>22</th>\n",
       "      <td>8.684164e-08</td>\n",
       "      <td>28.316695</td>\n",
       "      <td>15000</td>\n",
       "      <td>MOSFET</td>\n",
       "      <td>30.786107</td>\n",
       "      <td>3.479579</td>\n",
       "    </tr>\n",
       "    <tr>\n",
       "      <th>23</th>\n",
       "      <td>0.000000e+00</td>\n",
       "      <td>28.096198</td>\n",
       "      <td>15000</td>\n",
       "      <td>MOSFET</td>\n",
       "      <td>28.850554</td>\n",
       "      <td>1.095392</td>\n",
       "    </tr>\n",
       "  </tbody>\n",
       "</table>\n",
       "<p>35040 rows × 6 columns</p>\n",
       "</div>"
      ],
      "text/plain": [
       "      Irradiance         Ta   f_sw  Device         Tj   delta_Tj\n",
       "0   0.000000e+00  27.608333  10000    IGBT  29.081295   1.561258\n",
       "1   0.000000e+00  27.179167  10000    IGBT  28.001805   0.870981\n",
       "2   0.000000e+00  26.479123  10000    IGBT  27.179445   0.740504\n",
       "3   0.000000e+00  26.091629  10000    IGBT  26.556674   0.493527\n",
       "4   0.000000e+00  25.845771  10000    IGBT  26.160277   0.331715\n",
       "..           ...        ...    ...     ...        ...        ...\n",
       "19  3.501382e+02  28.741923  15000  MOSFET  65.811249  34.005698\n",
       "20  5.696270e+01  28.483462  15000  MOSFET  54.522737  27.395597\n",
       "21  1.252388e-01  28.366721  15000  MOSFET  38.075751  17.339361\n",
       "22  8.684164e-08  28.316695  15000  MOSFET  30.786107   3.479579\n",
       "23  0.000000e+00  28.096198  15000  MOSFET  28.850554   1.095392\n",
       "\n",
       "[35040 rows x 6 columns]"
      ]
     },
     "execution_count": 40,
     "metadata": {},
     "output_type": "execute_result"
    }
   ],
   "source": [
    "# show final dataframe\n",
    "final_df"
   ]
  },
  {
   "cell_type": "markdown",
   "metadata": {},
   "source": [
    "**Dataset saving**\n",
    "\n",
    "Salvamento do dataset em arquivo .csv."
   ]
  },
  {
   "cell_type": "code",
   "execution_count": 51,
   "metadata": {
    "id": "I2JeWwkwXlGU"
   },
   "outputs": [
    {
     "data": {
      "text/plain": [
       "{'ResponseMetadata': {'RequestId': '5AFZXW3WZB1DHCQM',\n",
       "  'HostId': 'eGNNYyc8B7Z992U8I97ne/WpXunnALtfxKB/x3DyfxrIt27VdvGuJCsaF7BPD8e1FAFsDEio/7U=',\n",
       "  'HTTPStatusCode': 200,\n",
       "  'HTTPHeaders': {'x-amz-id-2': 'eGNNYyc8B7Z992U8I97ne/WpXunnALtfxKB/x3DyfxrIt27VdvGuJCsaF7BPD8e1FAFsDEio/7U=',\n",
       "   'x-amz-request-id': '5AFZXW3WZB1DHCQM',\n",
       "   'date': 'Thu, 07 Dec 2023 00:50:43 GMT',\n",
       "   'x-amz-server-side-encryption': 'AES256',\n",
       "   'etag': '\"c425915a2aa55f34c9698d0b7f1b35ae\"',\n",
       "   'server': 'AmazonS3',\n",
       "   'content-length': '0'},\n",
       "  'RetryAttempts': 0},\n",
       " 'ETag': '\"c425915a2aa55f34c9698d0b7f1b35ae\"',\n",
       " 'ServerSideEncryption': 'AES256'}"
      ]
     },
     "execution_count": 51,
     "metadata": {},
     "output_type": "execute_result"
    }
   ],
   "source": [
    "bucket = 'resultados-ifsp-1000'  # already created on S3\n",
    "csv_buffer = StringIO()\n",
    "final_df.to_csv(csv_buffer, index=False)\n",
    "\n",
    "s3_resource = boto3.resource('s3')\n",
    "s3_resource.Object(bucket, 'JTemp35k-teresina.csv').put(Body=csv_buffer.getvalue())"
   ]
  },
  {
   "cell_type": "code",
   "execution_count": null,
   "metadata": {},
   "outputs": [],
   "source": []
  }
 ],
 "metadata": {
  "colab": {
   "provenance": []
  },
  "kernelspec": {
   "display_name": "user-env:(aws-vianjo)",
   "language": "python",
   "name": "aws-vianjo"
  },
  "language_info": {
   "codemirror_mode": {
    "name": "ipython",
    "version": 3
   },
   "file_extension": ".py",
   "mimetype": "text/x-python",
   "name": "python",
   "nbconvert_exporter": "python",
   "pygments_lexer": "ipython3",
   "version": "3.11.5"
  }
 },
 "nbformat": 4,
 "nbformat_minor": 4
}
